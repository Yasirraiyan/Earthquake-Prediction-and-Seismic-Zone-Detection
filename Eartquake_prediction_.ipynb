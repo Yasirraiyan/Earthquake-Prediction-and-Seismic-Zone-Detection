{
  "nbformat": 4,
  "nbformat_minor": 0,
  "metadata": {
    "colab": {
      "provenance": []
    },
    "kernelspec": {
      "name": "python3",
      "display_name": "Python 3"
    },
    "language_info": {
      "name": "python"
    }
  },
  "cells": [
    {
      "cell_type": "code",
      "execution_count": null,
      "metadata": {
        "id": "Q80KyNHi6fmq"
      },
      "outputs": [],
      "source": [
        "import numpy as np\n",
        "import pandas as pd\n",
        "import matplotlib.pyplot as plt\n",
        "from sklearn.cluster import KMeans\n",
        "# উদাহরণ ডেটা তৈরি করা\n",
        "data = {\n",
        "    'X': [2, 2, 8, 5, 7, 6, 1, 4],\n",
        "    'Y': [10, 5, 4, 8, 5, 9, 2, 7]\n",
        "}\n",
        "df = pd.DataFrame(data)\n",
        "plt.scatter(df['X'],df['Y'],color='blue')\n",
        "plt.xlabel('X')\n",
        "plt.ylabel('Y')\n",
        "plt.title('data points')\n",
        "plt.show()\n",
        "kmeans=KMeans(n_clusters=2)\n",
        "kmeans.fit(df)\n",
        "centers=kmeans.cluster_centers_\n",
        "labels=kmeans.labels_\n",
        "print(\"Cluster Centers:\\n\", centers)\n",
        "print(\"Labels:\\n\", labels)\n",
        "plt.scatter(df['X'], df['Y'], c=labels, cmap='rainbow')\n",
        "plt.scatter(centers[:, 0], centers[:, 1], color='black', marker='X', s=100)\n",
        "plt.xlabel('X')\n",
        "plt.ylabel('Y')\n",
        "plt.title('K-Means Clustering')\n",
        "plt.show()\n"
      ]
    }
  ]
}